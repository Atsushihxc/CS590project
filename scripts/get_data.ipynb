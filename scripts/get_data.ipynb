{
 "cells": [
  {
   "cell_type": "code",
   "execution_count": 35,
   "metadata": {},
   "outputs": [],
   "source": [
    "import geopandas as gpd\n",
    "import matplotlib.pyplot as plt\n",
    "import pandas as pd\n",
    "import math"
   ]
  },
  {
   "cell_type": "code",
   "execution_count": 2,
   "metadata": {},
   "outputs": [],
   "source": [
    "# convert the second row as the header, getting rid of !!\n",
    "def convertHeader(df):\n",
    "    df['GEO_ID'] = df['GEO_ID'].str[9:]\n",
    "    df= df.rename(columns={'GEO_ID':'GEOID10'})\n",
    "    df.columns = df.iloc[0]\n",
    "    df = df.drop(index= 0).rename(columns = {\"\":'GEOID10'})\n",
    "\n",
    "    cols = df.columns.tolist()\n",
    "    for i in range(len(cols)):\n",
    "        col = cols[i].replace( '!!',' ')\n",
    "        cols[i] = col\n",
    "    df.columns = cols\n",
    "    return df\n",
    "\n",
    "# find num of students of age 5-10 of each race in each block\n",
    "def countElemStudents(df,race):\n",
    "    elem_members = ['GEOID10','Total Male 5 to 9 years','Total Female 5 to 9 years','Total Male 10 to 14 years','Total Female 10 to 14 years']\n",
    "    df_elem = df.loc[:,elem_members]\n",
    "    for col in elem_members:#convert all columns to number format\n",
    "        if col != 'GEOID10':\n",
    "            df_elem[col] = pd.to_numeric(df_elem[col],errors = 'coerce')\n",
    "    #assume kids are evenly distributed over different ages, so divide the column value by 5\n",
    "    df_elem['Total Male 10 to 14 years'] = df_elem['Total Male 10 to 14 years']/5\n",
    "    df_elem['Total Female 10 to 14 years'] = df_elem['Total Female 10 to 14 years']/5\n",
    "    #sum over kids of all ages and genders\n",
    "    df_elem['Total_{}'.format(race)] = df_elem.sum(axis = 1)\n",
    "    return df_elem.loc[:,['GEOID10','Total_{}'.format(race)]]\n"
   ]
  },
  {
   "cell_type": "markdown",
   "metadata": {},
   "source": [
    "## Import enrollment and geographic information of schools"
   ]
  },
  {
   "cell_type": "code",
   "execution_count": 37,
   "metadata": {},
   "outputs": [],
   "source": [
    "def get_schl_info():\n",
    "    elem_durham =  gpd.read_file(r'./../data/elem_durham/elem_durham.shp')\n",
    "    elem_durham_addr = pd.read_csv(r'./../data/map_distance.csv')\n",
    "    elem_durham_addr['coords'] = elem_durham_addr.apply(lambda x: (x['long'],x['lat']), axis = 1)\n",
    "    elem_durham_basic = pd.concat([elem_durham.loc[:,['name','member']], elem_durham_addr.loc[:,'coords']],axis = 1)\n",
    "\n",
    "\n",
    "    magnet_basic = pd.read_csv(r'./../data/magnet_data.csv')\n",
    "    magnet_basic['coords'] = magnet_basic.apply(lambda x: (x['long'],x['lat']), axis = 1)\n",
    "    magnet_basic = magnet_basic.drop(columns = ['long','lat'])\n",
    "    elem_durham_basic = pd.concat([elem_durham_basic,magnet_basic]).reset_index().drop(columns=['index'])\n",
    "    return elem_durham_basic\n",
    "\n",
    "def get_blk_info():\n",
    "    block_durham = gpd.read_file(r'./../data/blk_shapefiles/tl_2018_37063_faces.shp')\n",
    "\n",
    "    block_durham['coords'] = block_durham['geometry'].apply(lambda x: x.representative_point().coords[:])\n",
    "    block_durham['coords'] = [coords[0] for coords in block_durham['coords']]\n",
    "    block_durham['GEOID10'] = block_durham['STATEFP10'] + block_durham['COUNTYFP10'] + block_durham['TRACTCE10'] + block_durham['BLOCKCE10']\n",
    "    block_durham = block_durham.dropna(subset = ['TFID'])\n",
    "    block_durham = block_durham.dissolve(by='GEOID10', aggfunc='sum').reset_index()\n",
    "\n",
    "    # write racial population information to each block\n",
    "    all_races = ['W','A','M','H','B']\n",
    "    for race in all_races:\n",
    "        df_race = pd.read_csv(r'./../data/sex_age_race/sex_by_age_{}.csv'.format(race))\n",
    "        df_race = convertHeader(df_race)\n",
    "        df_race_elem = countElemStudents(df_race,race)\n",
    "        block_durham = pd.merge(block_durham, df_race_elem, how = 'inner')\n",
    "\n",
    "    # aggregate population information into block groups\n",
    "    block_durham['BLKGRP'] = block_durham['GEOID10'].apply(lambda x: str(x)[:12])\n",
    "    block_durham = block_durham.dissolve(by='BLKGRP', aggfunc='sum').reset_index()\n",
    "    block_durham['coords'] = block_durham['geometry'].apply(lambda x: x.representative_point().coords[:])\n",
    "    block_durham['coords'] = [coords[0] for coords in block_durham['coords']] \n",
    "    return block_durham\n",
    "\n",
    "def comp_dist(elem_durham_basic,block_durham):\n",
    "    df_dist =block_durham.loc[:,['BLKGRP']]\n",
    "    df_dist['LON'] = block_durham['coords'].apply(lambda x: x[0])\n",
    "    df_dist['LAT'] = block_durham['coords'].apply(lambda x: x[1])\n",
    "    for index, row in elem_durham_basic.iterrows():\n",
    "        school = row['name']\n",
    "        coord0 = row['coords'][0]\n",
    "        coord1 = row['coords'][1]\n",
    "        df_dist[school] = (df_dist['LON'] - coord0)**2 + (df_dist['LAT'] - coord1)**2 \n",
    "\n",
    "    return df_dist"
   ]
  },
  {
   "cell_type": "code",
   "execution_count": 41,
   "metadata": {},
   "outputs": [],
   "source": [
    "def write_capacity(elem_durham_basic):\n",
    "        # write schl capacity info to data file\n",
    "    f = open('school_capacity.txt', 'w')\n",
    "\n",
    "    for idx, row in elem_durham_basic.iterrows():\n",
    "        school_name = row['name']\n",
    "        capacity = int(1.1*row['member'])\n",
    "        write_string = school_name + '      ' + str(capacity) + \"\\n\"\n",
    "        f.write(write_string)\n",
    "    f.close()\n",
    "    \n",
    "    \n",
    "def write_dist(df_dist):\n",
    "    school_string = '                ' + '   '.join(list(df_dist.columns)[3:])\n",
    "    f = open('distance_file.txt', 'w')\n",
    "    f.write(school_string+\"\\n\")\n",
    "    for idx, row in df_dist.iterrows():\n",
    "        block_id = str(df_dist.iloc[idx,0]) + '              '\n",
    "        dist =[str(d) for d in list(df_dist.iloc[idx,3:])]\n",
    "        dist_string = '   '.join(dist)\n",
    "        write_string =block_id + dist_string + \"\\n\"\n",
    "        f.write(write_string)\n",
    "    f.close()    \n",
    "def write_race_info(block_durham):\n",
    "    f = open('block_race_file.txt', 'w')\n",
    "    ethnicity_title = \"            White     Asian     Multi     Hispanic     Black  :=\\n\"\n",
    "    f.write(ethnicity_title)\n",
    "    for idx, row in block_durham.iterrows():\n",
    "        block_id = str(block_durham.iloc[idx,0]) + '              '\n",
    "        nums =[int(d)+1 if int(d)%1 > 0.5 else int(d) for d in list(block_durham.iloc[idx,4:9])]\n",
    "        nums = [str(x) for x in nums]\n",
    "        nums_string = '   '.join(nums)\n",
    "        write_string =block_id + nums_string + \"\\n\"\n",
    "        f.write(write_string)\n",
    "    f.close()"
   ]
  },
  {
   "cell_type": "markdown",
   "metadata": {},
   "source": [
    "## Export enrollment constraint"
   ]
  },
  {
   "cell_type": "code",
   "execution_count": 42,
   "metadata": {},
   "outputs": [],
   "source": [
    "if __name__ == \"__main__\": \n",
    "\n",
    "    elem_durham_basic = get_schl_info()\n",
    "    block_durham = get_blk_info()\n",
    "    df_dist = comp_dist(elem_durham_basic,block_durham)\n",
    "    write_capacity(elem_durham_basic)\n",
    "    write_dist(df_dist)\n",
    "    write_race_info(block_durham)"
   ]
  },
  {
   "cell_type": "code",
   "execution_count": null,
   "metadata": {},
   "outputs": [],
   "source": [
    "# ig, ax = plt.subplots(1, 1,figsize=(25, 25))\n",
    "# ax.spines[\"top\"].set_visible(False)\n",
    "# ax.spines[\"right\"].set_visible(False)\n",
    "# ax.set_title(\"Durham Public Elementary School Districts\",fontsize = 28)\n",
    "# #elem_durham.plot(ax = ax, legend = True, column = 'Pct_H',cmap = 'YlOrRd')\n",
    "# #elem_durham.plot(ax = ax, legend = True,cmap = 'YlOrRd')\n",
    "# elem_durham.geometry.boundary.plot(color = None, edgecolor = 'r',linewidth = 1, ax = ax, vmin = 0, vmax = 1)\n",
    "# for idx, row in elem_durham.iterrows():\n",
    "#     plt.annotate(s=row['name'][0:12], xy=row['coords'],\n",
    "#                  horizontalalignment='center', fontsize = 16)"
   ]
  }
 ],
 "metadata": {
  "kernelspec": {
   "display_name": "Python 3",
   "language": "python",
   "name": "python3"
  },
  "language_info": {
   "codemirror_mode": {
    "name": "ipython",
    "version": 3
   },
   "file_extension": ".py",
   "mimetype": "text/x-python",
   "name": "python",
   "nbconvert_exporter": "python",
   "pygments_lexer": "ipython3",
   "version": "3.8.6"
  }
 },
 "nbformat": 4,
 "nbformat_minor": 4
}
